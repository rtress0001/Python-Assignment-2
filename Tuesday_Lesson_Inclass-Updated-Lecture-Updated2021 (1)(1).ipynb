{
 "cells": [
  {
   "cell_type": "markdown",
   "metadata": {},
   "source": [
    "# Functions, Scoping, Data Collections 1 & List Comprehensions"
   ]
  },
  {
   "cell_type": "markdown",
   "metadata": {},
   "source": [
    "## Tasks Today:\n",
    "\n",
    "<i>Monday Additions (or, and ... if statements)</i>\n",
    "\n",
    "1) String Manipulation <br>\n",
    " &nbsp;&nbsp;&nbsp;&nbsp; a) strip() <br>\n",
    " &nbsp;&nbsp;&nbsp;&nbsp; b) title() <br>\n",
    "2) Working With Lists <br>\n",
    " &nbsp;&nbsp;&nbsp;&nbsp; a) min() <br>\n",
    " &nbsp;&nbsp;&nbsp;&nbsp; b) max() <br>\n",
    " &nbsp;&nbsp;&nbsp;&nbsp; c) sum() <br>\n",
    " &nbsp;&nbsp;&nbsp;&nbsp; d) sort() <br>\n",
    " &nbsp;&nbsp;&nbsp;&nbsp; e) Copying a List <br>\n",
    " &nbsp;&nbsp;&nbsp;&nbsp; f) 'in' keyword <br>\n",
    " &nbsp;&nbsp;&nbsp;&nbsp; g) 'not in' keyword <br>\n",
    " &nbsp;&nbsp;&nbsp;&nbsp; i) Checking an Empty List <br>\n",
    " &nbsp;&nbsp;&nbsp;&nbsp; j) Removing Instances with a Loop <br>\n",
    "3) List Comprehensions <br>\n",
    "4) Tuples <br>\n",
    " &nbsp;&nbsp;&nbsp;&nbsp; a) sorted() <br>\n",
    "5) Functions <br>\n",
    " &nbsp;&nbsp;&nbsp;&nbsp; a) User-Defined vs. Built-In Functions <br>\n",
    " &nbsp;&nbsp;&nbsp;&nbsp; b) Accepting Parameters <br>\n",
    " &nbsp;&nbsp;&nbsp;&nbsp; c) Default Parameters <br>\n",
    " &nbsp;&nbsp;&nbsp;&nbsp; d) Making an Argument Optional <br>\n",
    " &nbsp;&nbsp;&nbsp;&nbsp; e) Keyword Arguments <br>\n",
    " &nbsp;&nbsp;&nbsp;&nbsp; f) Returning Values <br>\n",
    " &nbsp;&nbsp;&nbsp;&nbsp; g) *args <br>\n",
    " &nbsp;&nbsp;&nbsp;&nbsp; h) Docstring <br>\n",
    " &nbsp;&nbsp;&nbsp;&nbsp; i) Using a User Function in a Loop <br>\n",
    "6) Scope"
   ]
  },
  {
   "cell_type": "markdown",
   "metadata": {},
   "source": [
    "### String Manipulation"
   ]
  },
  {
   "cell_type": "markdown",
   "metadata": {},
   "source": [
    "##### .lstrip()"
   ]
  },
  {
   "cell_type": "code",
   "execution_count": 1,
   "metadata": {},
   "outputs": [
    {
     "name": "stdout",
     "output_type": "stream",
     "text": [
      "John Smith\n"
     ]
    }
   ],
   "source": [
    "# strig.lstrip()\n",
    "\n",
    "name = \"        hJohn Smith\"\n",
    "print(name.lstrip(\" \" \"h\"))"
   ]
  },
  {
   "cell_type": "markdown",
   "metadata": {},
   "source": [
    "##### .rstrip()"
   ]
  },
  {
   "cell_type": "code",
   "execution_count": 2,
   "metadata": {},
   "outputs": [
    {
     "name": "stdout",
     "output_type": "stream",
     "text": [
      "Bill Ross\n"
     ]
    }
   ],
   "source": [
    "# string.rstrip()\n",
    "\n",
    "name =\"Bill Ross     th  \"\n",
    "print(name.rstrip(\" \" \"th\"))"
   ]
  },
  {
   "cell_type": "markdown",
   "metadata": {},
   "source": [
    "##### .strip()"
   ]
  },
  {
   "cell_type": "code",
   "execution_count": 3,
   "metadata": {},
   "outputs": [
    {
     "name": "stdout",
     "output_type": "stream",
     "text": [
      "John Smith\n"
     ]
    }
   ],
   "source": [
    "# string.strip()\n",
    "# it is recurisve and will strip away all instances of th even the one thats part of the data\n",
    "\n",
    "name = \"     John Smith     \"\n",
    "print(name.strip(\" \" \"  \"))"
   ]
  },
  {
   "cell_type": "markdown",
   "metadata": {},
   "source": [
    "##### .title()"
   ]
  },
  {
   "cell_type": "code",
   "execution_count": 4,
   "metadata": {},
   "outputs": [
    {
     "name": "stdout",
     "output_type": "stream",
     "text": [
      "Joe Biden\n"
     ]
    }
   ],
   "source": [
    "# string.title()\n",
    "president = \"Joe Biden\"\n",
    "print(president)"
   ]
  },
  {
   "cell_type": "markdown",
   "metadata": {},
   "source": [
    "### String Exercise <br>\n",
    "<p>Strip all white space and capitalize every name in the list given</p>"
   ]
  },
  {
   "cell_type": "code",
   "execution_count": 5,
   "metadata": {},
   "outputs": [
    {
     "name": "stdout",
     "output_type": "stream",
     "text": [
      "Conner\n",
      "Max\n",
      "Even\n",
      "Jodran\n"
     ]
    }
   ],
   "source": [
    "# Hint: you will need to use a for loop for iteraion\n",
    "# frist we create a for loop\n",
    "# then strip the white space\n",
    "# then capatilize \n",
    "\n",
    "names = [' conner', 'max  ', \"Even   \", \"Jodran   \"]\n",
    "\n",
    "for name in names:\n",
    "    print(name.strip().title())\n",
    "    "
   ]
  },
  {
   "cell_type": "markdown",
   "metadata": {},
   "source": [
    "### Working With Lists"
   ]
  },
  {
   "cell_type": "markdown",
   "metadata": {},
   "source": [
    "##### min()"
   ]
  },
  {
   "cell_type": "code",
   "execution_count": 6,
   "metadata": {},
   "outputs": [
    {
     "name": "stdout",
     "output_type": "stream",
     "text": [
      "2\n"
     ]
    }
   ],
   "source": [
    "# min(list)\n",
    "\n",
    "numbers = [4,2,97,54,14]\n",
    "\n",
    "print(min(numbers))"
   ]
  },
  {
   "cell_type": "markdown",
   "metadata": {},
   "source": [
    "##### max()"
   ]
  },
  {
   "cell_type": "code",
   "execution_count": 7,
   "metadata": {},
   "outputs": [
    {
     "name": "stdout",
     "output_type": "stream",
     "text": [
      "97\n"
     ]
    }
   ],
   "source": [
    "numbers = [4,2,97,54,14]\n",
    "\n",
    "print(max(numbers))"
   ]
  },
  {
   "cell_type": "markdown",
   "metadata": {},
   "source": [
    "##### sum()"
   ]
  },
  {
   "cell_type": "code",
   "execution_count": 8,
   "metadata": {},
   "outputs": [
    {
     "name": "stdout",
     "output_type": "stream",
     "text": [
      "171\n"
     ]
    }
   ],
   "source": [
    "numbers = [4,2,97,54,14]\n",
    "\n",
    "print(sum(numbers))"
   ]
  },
  {
   "cell_type": "markdown",
   "metadata": {},
   "source": [
    "##### sorted()"
   ]
  },
  {
   "cell_type": "code",
   "execution_count": 9,
   "metadata": {},
   "outputs": [
    {
     "name": "stdout",
     "output_type": "stream",
     "text": [
      "[2, 4, 14, 54, 97]\n",
      "[4, 2, 97, 54, 14]\n"
     ]
    }
   ],
   "source": [
    "# sorted(list)\n",
    "numbers = [4,2,97,54,14]\n",
    "# sorted keeps the data in the orginal order\n",
    "print(sorted(numbers))\n",
    "print(numbers)"
   ]
  },
  {
   "cell_type": "markdown",
   "metadata": {},
   "source": [
    "##### .sort() <br>\n",
    "<p>Difference between sort and sorted, is that sorted doesn't change original list it returns a copy, while .sort changes the original list</p>"
   ]
  },
  {
   "cell_type": "code",
   "execution_count": 10,
   "metadata": {},
   "outputs": [
    {
     "name": "stdout",
     "output_type": "stream",
     "text": [
      "[2, 4, 14, 54, 97]\n"
     ]
    }
   ],
   "source": [
    "numbers = [4,2,97,54,14]\n",
    "\n",
    "#sort does not have a rerturned value and it changes the orginal list\n",
    "numbers.sort()\n",
    "print(numbers)"
   ]
  },
  {
   "cell_type": "markdown",
   "metadata": {},
   "source": [
    "##### Copying a List"
   ]
  },
  {
   "cell_type": "code",
   "execution_count": 11,
   "metadata": {},
   "outputs": [
    {
     "name": "stdout",
     "output_type": "stream",
     "text": [
      "[2, 4, 14, 54, 97]\n",
      "[2, 4, 14, 54, 97]\n"
     ]
    }
   ],
   "source": [
    "# [:] copies an a list, doesnt alter the oringial value\n",
    "\n",
    "my_copy = numbers[:]\n",
    "\n",
    "print(my_copy)\n",
    "print(numbers)\n"
   ]
  },
  {
   "cell_type": "markdown",
   "metadata": {},
   "source": [
    "##### 'in' keyword"
   ]
  },
  {
   "cell_type": "code",
   "execution_count": 12,
   "metadata": {},
   "outputs": [
    {
     "name": "stdout",
     "output_type": "stream",
     "text": [
      "coding temple instructor\n"
     ]
    }
   ],
   "source": [
    "l_teachers = [\"joel\",\"derek\", \"conner\", \"brain\",\"joe\"]\n",
    "\n",
    "if \"derek\" in l_teachers:\n",
    "    print(\"coding temple instructor\")\n",
    "else:\n",
    "    print(\"not in instructor\")\n",
    "\n"
   ]
  },
  {
   "cell_type": "code",
   "execution_count": 13,
   "metadata": {},
   "outputs": [
    {
     "name": "stdout",
     "output_type": "stream",
     "text": [
      "not found\n",
      "not found\n",
      "found\n",
      "not found\n",
      "not found\n"
     ]
    }
   ],
   "source": [
    "l_teachers = [\"joel\",\"derek\", \"conner\", \"brain\",\"joe\"]\n",
    "\n",
    "for name in l_teachers:\n",
    "    if \"c\" in name[0]:\n",
    "        print(\"found\")\n",
    "    else:\n",
    "         print(\"not found\")"
   ]
  },
  {
   "cell_type": "markdown",
   "metadata": {},
   "source": [
    "##### 'not in' keyword"
   ]
  },
  {
   "cell_type": "code",
   "execution_count": 14,
   "metadata": {},
   "outputs": [
    {
     "name": "stdout",
     "output_type": "stream",
     "text": [
      "not a coding temple instructor\n"
     ]
    }
   ],
   "source": [
    "if \"zack\" not in l_teachers:\n",
    "    print(\"not a coding temple instructor\")"
   ]
  },
  {
   "cell_type": "markdown",
   "metadata": {},
   "source": [
    "##### Checking an Empty List"
   ]
  },
  {
   "cell_type": "code",
   "execution_count": 15,
   "metadata": {},
   "outputs": [
    {
     "name": "stdout",
     "output_type": "stream",
     "text": [
      "Empty\n",
      "Empty\n"
     ]
    }
   ],
   "source": [
    "# if l_1: or if l_1 =  []\n",
    "l_2 = []\n",
    "\n",
    "if l_2 == []:\n",
    "    print(\"Empty\")\n",
    "\n",
    "if len(l_2) == 0:\n",
    "    print(\"Empty\")\n"
   ]
  },
  {
   "cell_type": "markdown",
   "metadata": {},
   "source": [
    "##### Removing Instances with a Loop"
   ]
  },
  {
   "cell_type": "code",
   "execution_count": 16,
   "metadata": {},
   "outputs": [],
   "source": [
    "# while, remove\n",
    "names = [\"conner\",\"Joel\",\"max\",\"evan\",\"rob\",\"evan\", \"evan\"]\n",
    "\n",
    "#this piece of code produces a bug by skipping over due to indexing issues.\n",
    "#for name in names:\n",
    "#    if name == \"evan\":\n",
    "#       names.remove(\"evan\")\n",
    "#print(names)\n",
    "\n",
    "while \"evan\" in names:\n",
    "    names.remove(\"evan\")\n",
    "\n",
    "print(names)\n",
    "\n"
   ]
  },
  {
   "cell_type": "markdown",
   "metadata": {},
   "source": [
    "### List Exercise <br>\n",
    "<p>Remove all duplicates<br><b>Extra: Create a program that will remove any duplicates from a given list</b></p>"
   ]
  },
  {
   "cell_type": "code",
   "execution_count": 17,
   "metadata": {},
   "outputs": [
    {
     "name": "stdout",
     "output_type": "stream",
     "text": [
      "[]\n"
     ]
    }
   ],
   "source": [
    "names = ['connor', 'connor', 'bob', 'connor', 'evan', 'max', 'evan', 2, 2, 2, 3, 3, 4, 'bob', 'kevin']\n",
    "# Hint 1: You will need an append\n",
    "# Hint 2: Using an empty list will make life easier\n",
    "\n",
    "names_2 = []\n",
    "\n",
    "for name_2 in names:\n",
    "    if name_2 not in names:\n",
    "        names_2.append(name_2)\n",
    "\n",
    "print(names_2)\n",
    "\n"
   ]
  },
  {
   "cell_type": "markdown",
   "metadata": {},
   "source": [
    "### List Comprehensions <br>\n",
    "<p>Creating a quickly generated list to work with<br>*result*  = [*transform*    *iteration*         *filter*     ]</p>"
   ]
  },
  {
   "cell_type": "markdown",
   "metadata": {},
   "source": [
    "##### In a list comprehension we have a few pieces:\n",
    "1. The first is the counter/ variable - IN this the variable is x\n",
    "2. then we have a transform for the variable\n",
    "3. The finale part of a list comp is called the condition\n",
    "\n",
    "```python\n",
    "    [variable, transform, condition]\n",
    "```"
   ]
  },
  {
   "cell_type": "code",
   "execution_count": 18,
   "metadata": {
    "scrolled": true
   },
   "outputs": [
    {
     "name": "stdout",
     "output_type": "stream",
     "text": [
      "[0, 1, 2, 3, 4, 5, 6, 7, 8, 9]\n",
      "\n",
      "---- now for list comprehension -----\n",
      "\n",
      "[0, 1, 2, 3, 4, 5, 6, 7, 8, 9]\n"
     ]
    }
   ],
   "source": [
    "# number comprehension\n",
    "\n",
    "# with a regualr for loop\n",
    "nums = []\n",
    "\n",
    "for i in range(10):\n",
    "    nums.append(i)\n",
    "\n",
    "print(nums)\n",
    "\n",
    "#In a list comprehension we have a few pieces:\n",
    "#The frist in the counter variable in the - iin this variable is x\n",
    "#Then we have a transform for the variable\n",
    "#The final part of list comp is called the condition\n",
    "#Variable, Transorm, conditoon\n",
    "\n",
    "print(\"\\n---- now for list comprehension -----\\n\")\n",
    "\n",
    "nums_comp = [i for i in range(10)]\n",
    "print(nums_comp)\n",
    "\n"
   ]
  },
  {
   "cell_type": "markdown",
   "metadata": {},
   "source": [
    "There are a few benefits to using List comprehensions. The most obvious would be that we now have shorter code to work with instead of using 3+ lines of code in the for loop variant.\n",
    "\n",
    "Another is an added benefit to memory usage. Since the list's memory is allocated first before adding elements to it, we don't have to resize the list once we add elements to it.\n",
    "\n",
    "Lastly, list comprehensions are considered the \"pythonic\" way to write code by the PEP8 standards (Python Style Guide)"
   ]
  },
  {
   "cell_type": "code",
   "execution_count": 19,
   "metadata": {},
   "outputs": [
    {
     "name": "stdout",
     "output_type": "stream",
     "text": [
      "[0, 1, 4, 9, 16, 25, 36, 49, 64, 81]\n",
      "[0, 1, 4, 9, 16, 25, 36, 49, 64, 81]\n"
     ]
    }
   ],
   "source": [
    "# square number comprension\n",
    "squares_comp = [x**2 for x in range(10)]\n",
    "print(squares_comp)\n",
    "\n",
    "squares_reg = []\n",
    "for x in range(10):\n",
    "    squares_reg.append(x**2)\n",
    "print(squares_reg)\n"
   ]
  },
  {
   "cell_type": "code",
   "execution_count": 20,
   "metadata": {},
   "outputs": [
    {
     "name": "stdout",
     "output_type": "stream",
     "text": [
      "['b', 'b', 's', 's']\n",
      "['b', 'b', 's', 's']\n"
     ]
    }
   ],
   "source": [
    "#String comprehension\n",
    "\n",
    "names = [\"belinda\",\"beatrice\",\"susan\",\"sarah\"]\n",
    "\n",
    "frist_char_comp = [name[0] for name in names]\n",
    "print(frist_char_comp)\n",
    "\n",
    "frist_char = []\n",
    "for name in names:\n",
    "    frist_char.append(name[0])\n",
    "print(frist_char)"
   ]
  },
  {
   "cell_type": "code",
   "execution_count": 21,
   "metadata": {},
   "outputs": [
    {
     "name": "stdout",
     "output_type": "stream",
     "text": [
      "['susan', 'sarah']\n",
      "['susan', 'sarah']\n"
     ]
    }
   ],
   "source": [
    "# using if in a list comprehension\n",
    "\n",
    "names = [\"belinda\",\"beatrice\",\"susan\",\"sarah\"]\n",
    "c_names = [frist_name for frist_name in names if frist_name[0] == \"s\"]\n",
    "print(c_names)\n",
    "\n",
    "c_names = []\n",
    "for name in names:\n",
    "    if name[0] == \"s\":\n",
    "        c_names.append(name)\n",
    "print(c_names)"
   ]
  },
  {
   "cell_type": "markdown",
   "metadata": {},
   "source": [
    "### Tuples <br>\n",
    "<p><b>Defined as an immutable list</b></p><br>Seperated by commas using parenthesis"
   ]
  },
  {
   "cell_type": "code",
   "execution_count": 22,
   "metadata": {},
   "outputs": [
    {
     "name": "stdout",
     "output_type": "stream",
     "text": [
      "<class 'tuple'>\n",
      "1\n",
      "3\n",
      "(1, 2, 3)\n",
      "1\n",
      "2\n",
      "3\n",
      "1\n",
      "2\n",
      "3\n"
     ]
    }
   ],
   "source": [
    "tup_1 = 1,2,3\n",
    "tup_2 = {4,5,6}\n",
    "\n",
    "print(type(tup_1))\n",
    "\n",
    "print(tup_1[0])\n",
    "\n",
    "# Tuples do not have the index append\n",
    "#tup_1.append(4)\n",
    "\n",
    "# Tuples do not have the item assigment\n",
    "#tup_1[1] = 5\n",
    "\n",
    "#It does have the len function\n",
    "print(len(tup_1))\n",
    "\n",
    "#we can make copyies of tuples\n",
    "\n",
    "tup_3 = tup_1\n",
    "print(tup_3)\n",
    "\n",
    "#It has looping functionality\n",
    "\n",
    "for num in tup_1:\n",
    "    print(num)\n",
    "    \n",
    "for num in range(len(tup_1)):\n",
    "    print(tup_1[num])"
   ]
  },
  {
   "cell_type": "markdown",
   "metadata": {},
   "source": [
    "##### sorted()"
   ]
  },
  {
   "cell_type": "code",
   "execution_count": 23,
   "metadata": {},
   "outputs": [
    {
     "name": "stdout",
     "output_type": "stream",
     "text": [
      "<class 'list'>\n",
      "(1, 3, 3, 4, 5, 20, 33, 45, 66, 77)\n"
     ]
    }
   ],
   "source": [
    "tup_4 = {20, 5, 1, 3, 45}\n",
    "#creating a copy of the tuple turning it into a list\n",
    "sorted_tup = sorted(tup_4)\n",
    "#showing that sorted tup is not a tuple anymore\n",
    "print(type(sorted_tup))\n",
    "\n",
    "random_list = [3,4,66,77,33]\n",
    "\n",
    "#combining tuple and list makes a list\n",
    "combined_list = sorted_tup + random_list\n",
    "#sorting it before making it at tuple is a valid work around\n",
    "new_tup = tuple(sorted(combined_list))\n",
    "#showign the sorted list made into tuple\n",
    "print(new_tup)\n",
    "\n",
    "\n"
   ]
  },
  {
   "cell_type": "markdown",
   "metadata": {},
   "source": [
    "##### Adding values to a Tuple"
   ]
  },
  {
   "cell_type": "code",
   "execution_count": 24,
   "metadata": {},
   "outputs": [
    {
     "name": "stdout",
     "output_type": "stream",
     "text": [
      "(1, 2, 3)\n",
      "(1, 2, 3, 5)\n"
     ]
    }
   ],
   "source": [
    "print(tup_1)\n",
    "#showing by making a new tuple we can concatinate\n",
    "tup_5 = tup_1 + (5,)\n",
    "print(tup_5)"
   ]
  },
  {
   "cell_type": "markdown",
   "metadata": {},
   "source": [
    "## Functions"
   ]
  },
  {
   "cell_type": "markdown",
   "metadata": {},
   "source": [
    "##### User-Defined vs. Built-In Functions"
   ]
  },
  {
   "cell_type": "code",
   "execution_count": 25,
   "metadata": {},
   "outputs": [
    {
     "name": "stdout",
     "output_type": "stream",
     "text": [
      "<function sayhello at 0x000002CCB9D62C00>\n",
      "hello world\n",
      "hello world\n",
      "hello world\n",
      "13\n"
     ]
    }
   ],
   "source": [
    "# Users defined function\n",
    "\n",
    "def sayhello():\n",
    "    return \"hello world\"\n",
    "\n",
    "print(sayhello)\n",
    "\n",
    "#to use the code rather mailing addres\n",
    "print(sayhello())\n",
    "\n",
    "#Redefining hello world\n",
    "def sayhello2():\n",
    "    print(\"hello world\")\n",
    "sayhello2()\n",
    "sayhello2()\n",
    "#Defining a function, and I do understand parameters\n",
    "def addtwo(values):\n",
    "    return values+2\n",
    "\n",
    "print(addtwo(11))\n",
    "    \n"
   ]
  },
  {
   "cell_type": "markdown",
   "metadata": {},
   "source": [
    "##### Accepting Parameters"
   ]
  },
  {
   "cell_type": "code",
   "execution_count": 26,
   "metadata": {},
   "outputs": [
    {
     "name": "stdout",
     "output_type": "stream",
     "text": [
      " hello, kane space tyrant\n",
      " hello, Annie hoh\n",
      " hello, Scion TC\n"
     ]
    }
   ],
   "source": [
    "#Order matters\n",
    "#A variable can be any type of object\n",
    "\n",
    "def printFullName(frist_name,last_name):\n",
    "    return f' hello, {frist_name} {last_name}'\n",
    "\n",
    "# Calling the function\n",
    "print(printFullName(\"kane\", \"space tyrant\"))\n",
    "\n",
    "print(printFullName(\"Annie\", \"hoh\"))\n",
    "print(printFullName(\"Scion\", \"TC\"))"
   ]
  },
  {
   "cell_type": "markdown",
   "metadata": {},
   "source": [
    "##### Default Parameters"
   ]
  },
  {
   "cell_type": "code",
   "execution_count": 27,
   "metadata": {},
   "outputs": [
    {
     "name": "stdout",
     "output_type": "stream",
     "text": [
      " The name is ... Bond James Bond\n"
     ]
    }
   ],
   "source": [
    "#Make an argument default it has to be after the non-defaulting and you have to set it equal to something\n",
    "def printAgentName(frist_name , last_name = \"Bond\"):\n",
    "    return f\" The name is ... {last_name} {frist_name} {last_name}\"\n",
    "\n",
    "print(printAgentName(\"James\"))\n"
   ]
  },
  {
   "cell_type": "markdown",
   "metadata": {},
   "source": [
    "##### Making an Argument Optional"
   ]
  },
  {
   "cell_type": "code",
   "execution_count": null,
   "metadata": {},
   "outputs": [],
   "source": [
    "# Make an arguemnt optional by leaving a space in the paratmers\n",
    "def printAgentName(frist_name , last_name = \" \"):\n",
    "    return f\" The name is ... {last_name} {frist_name} {last_name}\"\n",
    "\n",
    "print(printAgentName(\"James\"))\n"
   ]
  },
  {
   "cell_type": "markdown",
   "metadata": {},
   "source": [
    "##### Keyword Arguments"
   ]
  },
  {
   "cell_type": "code",
   "execution_count": null,
   "metadata": {},
   "outputs": [],
   "source": [
    "#an exampel function with 3 keywords in it\n",
    "def my_function(child3, child2, child1):\n",
    "  print(\"The youngest child is \" + child3)\n",
    "# you have to include the variable name as part of the arguement to use the function\n",
    "my_function(child1 = \"Emil\", child2 = \"Tobias\", child3 = \"Linus\")"
   ]
  },
  {
   "cell_type": "markdown",
   "metadata": {},
   "source": [
    "# Creating a start, stop, step function"
   ]
  },
  {
   "cell_type": "code",
   "execution_count": null,
   "metadata": {},
   "outputs": [],
   "source": [
    "def my_range(stop, start, step = 1):\n",
    "    for i in range(start,stop,step):\n",
    "        print(i)\n",
    "my_range(20,1,2)"
   ]
  },
  {
   "cell_type": "markdown",
   "metadata": {},
   "source": [
    "##### Returning Values"
   ]
  },
  {
   "cell_type": "code",
   "execution_count": null,
   "metadata": {},
   "outputs": [],
   "source": [
    "# You can only use the function in a part of the grander situation we have to use the return function\n",
    "def addtwonums(num1,num2):\n",
    "    return num1+num2\n",
    "\n",
    "def addthreenums(num1,num2,num3):\n",
    "    return num1+num2+num3\n",
    "\n",
    "print(addthreenums(2,addtwonums(2,9),6))\n"
   ]
  },
  {
   "cell_type": "markdown",
   "metadata": {},
   "source": [
    "##### *args / **kwargs (AKA KeyWord Args)"
   ]
  },
  {
   "cell_type": "code",
   "execution_count": null,
   "metadata": {},
   "outputs": [],
   "source": [
    "# stand for aguments, takes any number of arguments as paratmters\n",
    "# must be last if mutiple parameters are present\n",
    "def printArgs(num1: int,*args,**kwargs):\n",
    "    print(int(num1))\n",
    "    print(args)\n",
    "    \n",
    "    for arg in args:\n",
    "        print(arg)\n",
    "        \n",
    "    for kwarg in kwargs:\n",
    "        print(kwarg)\n",
    "        \n",
    "printArgs(36, \"dragonzord\", \"vanilla\", 2 ,3, testing = \"joel\")"
   ]
  },
  {
   "cell_type": "markdown",
   "metadata": {},
   "source": [
    "##### Docstring"
   ]
  },
  {
   "cell_type": "code",
   "execution_count": null,
   "metadata": {},
   "outputs": [],
   "source": [
    "def printNames(a_list):\n",
    "    \"\"\"\n",
    "    print Names(a_list: list)\n",
    "    \n",
    "    Function requires a list to be pass as a paramter\n",
    "    and will not print the contents of a list \n",
    "    expecting a list of names (strings) to be pass in.\n",
    "    \n",
    "    \"\"\"\n",
    "    for name in a_list:\n",
    "        print(name)\n",
    "a_list = [\"joel\",\"bob\"]\n",
    "printNames(a_list)\n",
    "\n"
   ]
  },
  {
   "cell_type": "markdown",
   "metadata": {},
   "source": [
    "##### Using a User Function in a Loop"
   ]
  },
  {
   "cell_type": "code",
   "execution_count": null,
   "metadata": {},
   "outputs": [],
   "source": [
    "def printInput(answer):\n",
    "    print(answer)\n",
    "\n",
    "def task_doer():\n",
    "    while True:\n",
    "        ask = input(\"what do you want to be repeated\" )\n",
    "    \n",
    "        printInput(ask)\n",
    "    \n",
    "        response = input(\"are you wready to quit? \")\n",
    "        if response.lower() == 'quit':\n",
    "        break\n",
    "        \n",
    "task_doer()\n"
   ]
  },
  {
   "cell_type": "markdown",
   "metadata": {},
   "source": [
    "## Function Exercise <br>\n",
    "<p>Write a function that loops through a list of first_names and a list of last_names, combines the two and return a list of full_names</p>"
   ]
  },
  {
   "cell_type": "code",
   "execution_count": 46,
   "metadata": {},
   "outputs": [
    {
     "name": "stdout",
     "output_type": "stream",
     "text": [
      "['John Smith', 'John Smith', 'John Willaims', 'John Sell']\n"
     ]
    }
   ],
   "source": [
    "frist_names = [\"John\",\"Evan\",\"Jordan\",\"Max\"]\n",
    "last_names = [\"Smith\",\"Smith\",\"Willaims\", \"Sell\"]\n",
    "full_names = []\n",
    "def fullNames(frist_names,last_names):\n",
    "    for frist_name in frist_names:\n",
    "        for last_name in last_names:\n",
    "            if frist_name + last_name not in full_names:\n",
    "                full_names.append(frist_name+\" \"+last_name)\n",
    "        break\n",
    "    return full_names\n",
    "print(fullNames(frist_names,last_names))\n"
   ]
  },
  {
   "cell_type": "markdown",
   "metadata": {},
   "source": [
    "## Scope <br>\n",
    "<p>Scope refers to the ability to access variables, different types of scope include:<br>a) Global<br>b) Function (local)<br>c) Class (local)</p>"
   ]
  },
  {
   "cell_type": "code",
   "execution_count": 63,
   "metadata": {},
   "outputs": [
    {
     "name": "stdout",
     "output_type": "stream",
     "text": [
      "3\n",
      "6\n",
      "7\n",
      "7\n",
      "7\n",
      "7\n",
      "7\n"
     ]
    }
   ],
   "source": [
    "# Placement of variables declaration maters\n",
    "#A global variable is all the way taped left\n",
    "number = 3 #global variable\n",
    "\n",
    "#notice the global variable is not rewritten due to the local effect do not name parameters and global names its confusing\n",
    "def myFunc():\n",
    "    number = 6\n",
    "    return number\n",
    "def seven_loops():\n",
    "    for i in range(5):\n",
    "        number = 7\n",
    "        print(number)\n",
    "\n",
    "print(number)\n",
    "\n",
    "return_num = myFunc()\n",
    "print(return_num)\n",
    "seven_loops()"
   ]
  },
  {
   "cell_type": "markdown",
   "metadata": {},
   "source": [
    "# Exercises"
   ]
  },
  {
   "cell_type": "markdown",
   "metadata": {},
   "source": [
    "## Exercise 1 <br>\n",
    "<p>Given a list as a parameter,write a function that returns a list of numbers that are less than ten</b></i></p><br>\n",
    "<p> For example: Say your input parameter to the function is [1,11,14,5,8,9]...Your output should [1,5,8,9]</p>"
   ]
  },
  {
   "cell_type": "code",
   "execution_count": 57,
   "metadata": {},
   "outputs": [
    {
     "name": "stdout",
     "output_type": "stream",
     "text": [
      "[1, 5, 8, 9]\n"
     ]
    }
   ],
   "source": [
    "# Use the following list - [1,11,14,5,8,9]\n",
    "start_list = [1,11,14,5,8,9]\n",
    "\n",
    "def lessThanTenRemover(start_list):\n",
    "    new_list = []\n",
    "    for item in start_list:\n",
    "        if item < 10:\n",
    "              new_list.append(item)\n",
    "    return(new_list)\n",
    "\n",
    "print(lessThanTenRemover(start_list))\n",
    "\n",
    "\n"
   ]
  },
  {
   "cell_type": "markdown",
   "metadata": {},
   "source": [
    "## Exercise 2 <br>\n",
    "<p>Write a function that takes in two lists and returns the two lists merged together and sorted<br>\n",
    "<b><i>Hint: You can use the .sort() method</i></b></p>"
   ]
  },
  {
   "cell_type": "code",
   "execution_count": 60,
   "metadata": {},
   "outputs": [
    {
     "name": "stdout",
     "output_type": "stream",
     "text": [
      "[1, 2, 3, 3, 4, 4, 5, 5, 6, 6, 7, 8, 10]\n"
     ]
    }
   ],
   "source": [
    "l_1 = [1,2,3,4,5,6]\n",
    "l_2 = [3,4,5,6,7,8,10]\n",
    "\n",
    "def list_combiner(l_1,l_2):\n",
    "    combined_list = l_1 + l_2\n",
    "    combined_list.sort()\n",
    "    return(combined_list)\n",
    "\n",
    "print(list_combiner(l_1,l_2))\n",
    "\n"
   ]
  },
  {
   "cell_type": "code",
   "execution_count": null,
   "metadata": {},
   "outputs": [],
   "source": []
  }
 ],
 "metadata": {
  "kernelspec": {
   "display_name": "Python 3 (ipykernel)",
   "language": "python",
   "name": "python3"
  },
  "language_info": {
   "codemirror_mode": {
    "name": "ipython",
    "version": 3
   },
   "file_extension": ".py",
   "mimetype": "text/x-python",
   "name": "python",
   "nbconvert_exporter": "python",
   "pygments_lexer": "ipython3",
   "version": "3.11.3"
  }
 },
 "nbformat": 4,
 "nbformat_minor": 2
}
